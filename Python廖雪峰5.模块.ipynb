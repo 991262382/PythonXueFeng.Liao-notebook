{
 "cells": [
  {
   "cell_type": "markdown",
   "metadata": {},
   "source": [
    "将函数分为很多组，放置在不同的文件中，在Python中一个.py文件就是一个模块，特点：\n",
    "+ 提高了代码的可维护性，同时也便于复用\n",
    "+ 避免了函数名和变量名的冲突\n",
    "+ 通过包来解决相同模块名的问题,**但不能和Python系统自带的模块名冲突**\n"
   ]
  },
  {
   "cell_type": "code",
   "execution_count": 6,
   "metadata": {},
   "outputs": [
    {
     "name": "stdout",
     "output_type": "stream",
     "text": [
      "Too many arguments!\n"
     ]
    }
   ],
   "source": [
    "#!/usr/bin/env python3            -------------->表示可以在mac/linux/unix上直接运行\n",
    "# -*- coding: utf-8 -*-           -------------->表示文件编码格式\n",
    "\n",
    "' a test module '                 #------------->模块代码的第一个字符串为模块的文档注释\n",
    "\n",
    "__author__ = 'Michael Liao'       #------------->作者名\n",
    "\n",
    "import sys\n",
    "\n",
    "def test():\n",
    "    args = sys.argv\n",
    "    if len(args)==1:\n",
    "        print('Hello, world!')\n",
    "    elif len(args)==2:\n",
    "        print('Hello, %s!' % args[1])\n",
    "    else:\n",
    "        print('Too many arguments!')\n",
    "\n",
    "if __name__=='__main__':\n",
    "    test()"
   ]
  },
  {
   "cell_type": "markdown",
   "metadata": {},
   "source": [
    "### 5.1使用模块\n",
    "通过使用变量名前加下划线，声明该变量、函数为私有的，**不应该被直接印用**  \n",
    "通过私有，实现封装，是程序变得更加灵活易于维护"
   ]
  },
  {
   "cell_type": "markdown",
   "metadata": {},
   "source": [
    "意味着，直接运行该模块的文件，后面的内容会触发执行，如果是别的文件调用该模块则不执行后面的语句   \n",
    "这样可以使模块既可以独立运行又可以被他人调用  \n",
    "if \\_\\_name\\_\\_=='\\_\\_main\\_\\_':"
   ]
  },
  {
   "cell_type": "markdown",
   "metadata": {},
   "source": [
    "###  5.2安装第三方模块\n",
    "Window 需要安装pip  \n",
    "linux、Mac无须安装  \n",
    "安装命令  \n",
    "pip install 库名  \n",
    "\n",
    "**推荐安装Anaconda**  \n",
    "一键安装多个常用库  \n",
    "寻找模块时，会在指定的路径寻找对应的.py文件，找不到会报错，通常会搜索当前目录，系统路径    \n",
    "我们可以自定义搜索路径\n",
    "+ 一是直接修改sys.path，添加要搜索的目录：   \n",
    "  import sys\n",
    "  sys.path.append('/Users/michael/my_py_scripts')\n",
    "+ 第二种方法是设置环境变量PYTHONPATH\n"
   ]
  }
 ],
 "metadata": {
  "anaconda-cloud": {},
  "kernelspec": {
   "display_name": "Python [default]",
   "language": "python",
   "name": "python3"
  },
  "language_info": {
   "codemirror_mode": {
    "name": "ipython",
    "version": 3
   },
   "file_extension": ".py",
   "mimetype": "text/x-python",
   "name": "python",
   "nbconvert_exporter": "python",
   "pygments_lexer": "ipython3",
   "version": "3.5.2"
  }
 },
 "nbformat": 4,
 "nbformat_minor": 1
}
