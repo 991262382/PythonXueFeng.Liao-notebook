{
 "cells": [
  {
   "cell_type": "markdown",
   "metadata": {},
   "source": [
    "###  9.1文件读写\n",
    "读写文件是最常见的IO操作。Python内置了读写文件的函数，用法和C是兼容的。\n",
    "\n",
    "读写文件前，我们先必须了解一下，在磁盘上读写文件的功能都是由操作系统提供的，现代操作系统不允许普通的程序直接操作磁盘，所以，读写文件就是请求操作系统打开一个文件对象（通常称为文件描述符），然后，通过操作系统提供的接口从这个文件对象中读取数据（读文件），或者把数据写入这个文件对象（写文件）。"
   ]
  },
  {
   "cell_type": "code",
   "execution_count": 3,
   "metadata": {},
   "outputs": [
    {
     "ename": "IndentationError",
     "evalue": "unexpected indent (<ipython-input-3-953f2c59516b>, line 3)",
     "output_type": "error",
     "traceback": [
      "\u001b[0;36m  File \u001b[0;32m\"<ipython-input-3-953f2c59516b>\"\u001b[0;36m, line \u001b[0;32m3\u001b[0m\n\u001b[0;31m    f = open('/Users/michael/test.txt', 'r')\u001b[0m\n\u001b[0m    ^\u001b[0m\n\u001b[0;31mIndentationError\u001b[0m\u001b[0;31m:\u001b[0m unexpected indent\n"
     ]
    }
   ],
   "source": [
    "import io\n",
    "#读文件\n",
    " f = open('/Users/michael/test.txt', 'r')"
   ]
  },
  {
   "cell_type": "markdown",
   "metadata": {},
   "source": [
    "首先 需要打开一个文件   \n",
    "f.open('路径','打开方式')   \n",
    "使用f.read()读取文件      \n",
    "最后使用f.close()关闭文件   \n",
    "如果一旦程序出错无法关闭文件，因此通常使用**try...finally**确保文件关闭   \n",
    "还可以使用   \n",
    "with open('/path/to/file', 'r') as f:    \n",
    "    print(f.read())   \n",
    "就不需要写f.close() 代码更简洁   "
   ]
  },
  {
   "cell_type": "markdown",
   "metadata": {},
   "source": [
    "f.read(size),读取指定大小的文件，适合未知文件大小时使用   \n",
    "f.readlines(),读取一行文件，适合配置文件   \n",
    "f.read(),读取全部文件   "
   ]
  },
  {
   "cell_type": "markdown",
   "metadata": {},
   "source": [
    "如果是读取二进制文件，使用rb模式   \n",
    "f = open('/Users/michael/test.jpg', 'rb')"
   ]
  },
  {
   "cell_type": "markdown",
   "metadata": {},
   "source": [
    "非utf-8的文件，需要传入encoding参数   \n",
    "f = open('/Users/michael/gbk.txt', 'r', encoding='gbk')"
   ]
  },
  {
   "cell_type": "markdown",
   "metadata": {},
   "source": [
    "有些文件中会有非法字符，再加一个参数errors  \n",
    "忽略错误  \n",
    "f = open('/Users/michael/gbk.txt', 'r', encoding='gbk', errors='ignore')"
   ]
  },
  {
   "cell_type": "markdown",
   "metadata": {},
   "source": [
    "**写文件**   \n",
    "\n",
    "仅改变打开方式为w或wb(写二进制文件)\n",
    "反复调用f.write()向文件中写入内容，但在调用f.close之前，内容都写在缓存中，因此结束时一定要调用f.close()\n",
    "\n",
    "保险起见还是使用with语句  \n",
    "with open('/Users/michael/test.txt', 'w') as f:  \n",
    "    f.write('Hello, world!')"
   ]
  },
  {
   "cell_type": "markdown",
   "metadata": {},
   "source": [
    "###  9.2 StringIO和BytesIO\n",
    "有些时候，不一定需要在文件中读写，也可以在内存中读写\n",
    "StringIO在内存中读写str   \n",
    "首先创建一个f=StringIO()，然后像文件一样读写即可"
   ]
  },
  {
   "cell_type": "code",
   "execution_count": 12,
   "metadata": {},
   "outputs": [
    {
     "name": "stdout",
     "output_type": "stream",
     "text": [
      "hello world\n"
     ]
    }
   ],
   "source": [
    "from io import StringIO\n",
    "f = StringIO()\n",
    "f.write('hello')\n",
    "f.write(' ')\n",
    "f.write('world')\n",
    "\n",
    "#getvalue用于获取写入后的str\n",
    "print(f.getvalue())\n"
   ]
  },
  {
   "cell_type": "markdown",
   "metadata": {},
   "source": [
    "读取StringIO时，可以使用一个字符串初始化StringIO，然后像文件一样读取 "
   ]
  },
  {
   "cell_type": "code",
   "execution_count": 13,
   "metadata": {},
   "outputs": [
    {
     "name": "stdout",
     "output_type": "stream",
     "text": [
      "Hello!\n",
      "Hi!\n",
      "Goodbye!\n"
     ]
    }
   ],
   "source": [
    "from io import StringIO\n",
    "f = StringIO('Hello!\\nHi!\\nGoodbye!')\n",
    "while True:\n",
    "    s = f.readline()\n",
    "    if s =='':\n",
    "        break\n",
    "    print(s.strip())\n",
    "    "
   ]
  },
  {
   "cell_type": "markdown",
   "metadata": {},
   "source": [
    "**BytesIO**   \n",
    "类似StringIO，仅仅是换成二进制"
   ]
  },
  {
   "cell_type": "code",
   "execution_count": 14,
   "metadata": {},
   "outputs": [
    {
     "name": "stdout",
     "output_type": "stream",
     "text": [
      "b'\\xe4\\xb8\\xad\\xe6\\x96\\x87'\n"
     ]
    }
   ],
   "source": [
    "from io import BytesIO\n",
    "f = BytesIO()\n",
    "f.write('中文'.encode('utf-8'))\n",
    "print(f.getvalue())"
   ]
  },
  {
   "cell_type": "code",
   "execution_count": 15,
   "metadata": {},
   "outputs": [
    {
     "data": {
      "text/plain": [
       "b'\\xe4\\xb8\\xad\\xe6\\x96\\x87'"
      ]
     },
     "execution_count": 15,
     "metadata": {},
     "output_type": "execute_result"
    }
   ],
   "source": [
    "from io import BytesIO\n",
    "f = BytesIO(b'\\xe4\\xb8\\xad\\xe6\\x96\\x87')\n",
    "f.read()\n"
   ]
  },
  {
   "cell_type": "markdown",
   "metadata": {},
   "source": [
    "###  9.3操作文件和目录\n",
    "通过  \n",
    "import os   \n",
    "os.name    \n",
    "如果是posix说明系统是linux或unix或Mac，若为NT则为Windows\n",
    "\n",
    "**环境变量**  \n",
    "系统中的环境变量在   \n",
    "**os.environ**中   \n",
    "获取某个变量的值，使用os.environ.get('Key')\n"
   ]
  },
  {
   "cell_type": "markdown",
   "metadata": {},
   "source": [
    "**操作文件和目录**   \n",
    "\n",
    "\n"
   ]
  },
  {
   "cell_type": "code",
   "execution_count": 16,
   "metadata": {},
   "outputs": [
    {
     "ename": "NameError",
     "evalue": "name 'os' is not defined",
     "output_type": "error",
     "traceback": [
      "\u001b[0;31m---------------------------------------------------------------------------\u001b[0m",
      "\u001b[0;31mNameError\u001b[0m                                 Traceback (most recent call last)",
      "\u001b[0;32m<ipython-input-16-10e5b3ee1d15>\u001b[0m in \u001b[0;36m<module>\u001b[0;34m()\u001b[0m\n\u001b[1;32m      1\u001b[0m \u001b[1;31m# 查看当前目录的绝对路径:\u001b[0m\u001b[1;33m\u001b[0m\u001b[1;33m\u001b[0m\u001b[0m\n\u001b[0;32m----> 2\u001b[0;31m \u001b[0mos\u001b[0m\u001b[1;33m.\u001b[0m\u001b[0mpath\u001b[0m\u001b[1;33m.\u001b[0m\u001b[0mabspath\u001b[0m\u001b[1;33m(\u001b[0m\u001b[1;34m'.'\u001b[0m\u001b[1;33m)\u001b[0m\u001b[1;33m\u001b[0m\u001b[0m\n\u001b[0m\u001b[1;32m      3\u001b[0m \u001b[1;34m'/Users/michael'\u001b[0m\u001b[1;33m\u001b[0m\u001b[0m\n\u001b[1;32m      4\u001b[0m \u001b[1;31m# 在某个目录下创建一个新目录，首先把新目录的完整路径表示出来:\u001b[0m\u001b[1;33m\u001b[0m\u001b[1;33m\u001b[0m\u001b[0m\n\u001b[1;32m      5\u001b[0m \u001b[0mos\u001b[0m\u001b[1;33m.\u001b[0m\u001b[0mpath\u001b[0m\u001b[1;33m.\u001b[0m\u001b[0mjoin\u001b[0m\u001b[1;33m(\u001b[0m\u001b[1;34m'/Users/michael'\u001b[0m\u001b[1;33m,\u001b[0m \u001b[1;34m'testdir'\u001b[0m\u001b[1;33m)\u001b[0m\u001b[1;33m\u001b[0m\u001b[0m\n",
      "\u001b[0;31mNameError\u001b[0m: name 'os' is not defined"
     ]
    }
   ],
   "source": [
    "# 查看当前目录的绝对路径:\n",
    "os.path.abspath('.')\n",
    "'/Users/michael'\n",
    "# 在某个目录下创建一个新目录，首先把新目录的完整路径表示出来:\n",
    "os.path.join('/Users/michael', 'testdir')\n",
    "'/Users/michael/testdir'\n",
    "# 然后创建一个目录:\n",
    "os.mkdir('/Users/michael/testdir')\n",
    "# 删掉一个目录:\n",
    "os.rmdir('/Users/michael/testdir')"
   ]
  },
  {
   "cell_type": "markdown",
   "metadata": {},
   "source": [
    "+ 把两个路径合成一个时，不要直接拼字符串，而要通过os.path.join()函数，这样可以正确处理不同操作系统的路径分隔符\n",
    "+ 同样的道理，要拆分路径时，也不要直接去拆字符串，而要通过os.path.split()函数，这样可以把一个路径拆分为两部分，后一部分总是最后级别的目录或文件名：\n",
    "+ os.path.splitext()可以直接让你得到文件扩展名，很多时候非常方便：\n"
   ]
  },
  {
   "cell_type": "code",
   "execution_count": 40,
   "metadata": {},
   "outputs": [
    {
     "name": "stdout",
     "output_type": "stream",
     "text": [
      "['.anaconda', '.astropy', '.conda', '.dnx', '.ipynb_checkpoints', '.ipython', '.jupyter', '.keras', '.matplotlib', '.nuget', '.oracle_jre_usage', '.pycharmce2017.3', '.spyder-py3', '3d objects', 'appdata', 'application data', 'builds', 'contacts', 'cookies', 'creative cloud files', 'desktop', 'documents', 'downloads', 'evernote', 'favorites', 'intelgraphicsprofiles', 'keras', 'links', 'local settings', 'music', 'my documents', 'nethood', 'onedrive', 'pictures', 'printhood', 'pycharmprojects', 'pythongit', 'pythonwork', 'recent', 'saved games', 'scirun5screenshots', 'searches', 'sendto', 'start menu', 'templates', 'videos']\n"
     ]
    }
   ],
   "source": [
    "import os\n",
    "k= [x.lower() for x in os.listdir('.') if os.path.isdir(x)]\n",
    "print(k)"
   ]
  },
  {
   "cell_type": "code",
   "execution_count": 84,
   "metadata": {},
   "outputs": [
    {
     "name": "stdout",
     "output_type": "stream",
     "text": [
      "['pekomen', 'python']\n",
      "C:\\Users\\MappingLab-lxy\\Documents\\pythonforML\\python\\learning.py\n",
      "C:\\Users\\MappingLab-lxy\\Documents\\pythonforML\\python\\test1.py\n"
     ]
    }
   ],
   "source": [
    "\n",
    "import os \n",
    "k= [x.lower() for x in os.listdir('.') if os.path.isdir(x)]\n",
    "print(k)\n",
    "for m in k:\n",
    "    p=os.path.join(os.path.abspath('.'),m)\n",
    "    lf = [x for x in os.listdir(p) if os.path.splitext(x)[1]=='.py']\n",
    "    for n in lf:\n",
    "        print(os.path.join(p,n))"
   ]
  },
  {
   "cell_type": "code",
   "execution_count": 83,
   "metadata": {},
   "outputs": [
    {
     "name": "stdout",
     "output_type": "stream",
     "text": [
      "['learning.py', 'test1.py']\n"
     ]
    }
   ],
   "source": [
    "lf = [x for x in os.listdir(p) if os.path.splitext(x)[1]=='.py']\n",
    "print(lf)"
   ]
  },
  {
   "cell_type": "code",
   "execution_count": 1,
   "metadata": {},
   "outputs": [
    {
     "ename": "NameError",
     "evalue": "name 'os' is not defined",
     "output_type": "error",
     "traceback": [
      "\u001b[0;31m---------------------------------------------------------------------------\u001b[0m",
      "\u001b[0;31mNameError\u001b[0m                                 Traceback (most recent call last)",
      "\u001b[0;32m<ipython-input-1-9d3ac2129897>\u001b[0m in \u001b[0;36m<module>\u001b[0;34m()\u001b[0m\n\u001b[0;32m----> 1\u001b[0;31m \u001b[0mos\u001b[0m\u001b[1;33m.\u001b[0m\u001b[0mpath\u001b[0m\u001b[1;33m.\u001b[0m\u001b[0msplitext\u001b[0m\u001b[1;33m(\u001b[0m\u001b[0mlf\u001b[0m\u001b[1;33m[\u001b[0m\u001b[1;36m1\u001b[0m\u001b[1;33m]\u001b[0m\u001b[1;33m)\u001b[0m\u001b[1;33m\u001b[0m\u001b[0m\n\u001b[0m",
      "\u001b[0;31mNameError\u001b[0m: name 'os' is not defined"
     ]
    }
   ],
   "source": [
    "os.path.splitext(lf[1])"
   ]
  },
  {
   "cell_type": "markdown",
   "metadata": {},
   "source": [
    "### 9.4序列化\n",
    "把变量从内存中变成可存储或传输的过程称之为序列化  \n",
    "反之，把变量内容从序列化对象中重新读取到内存里称之为反序列化  \n",
    "Python通过pickle模块实现序列化  "
   ]
  },
  {
   "cell_type": "code",
   "execution_count": 7,
   "metadata": {},
   "outputs": [
    {
     "data": {
      "text/plain": [
       "b'\\x80\\x03}q\\x00(X\\x03\\x00\\x00\\x00ageq\\x01K\\x14X\\x04\\x00\\x00\\x00nameq\\x02X\\x03\\x00\\x00\\x00Bobq\\x03X\\x05\\x00\\x00\\x00scoreq\\x04KXu.'"
      ]
     },
     "execution_count": 7,
     "metadata": {},
     "output_type": "execute_result"
    }
   ],
   "source": [
    "import pickle\n",
    "d = dict(name='Bob',age=20,score=88)\n",
    "#这里使用的是dumps将需要存储的信息转为二进制字符串\n",
    "pickle.dumps(d)\n"
   ]
  },
  {
   "cell_type": "code",
   "execution_count": 12,
   "metadata": {},
   "outputs": [],
   "source": [
    "f = open('dump.txt','wb')\n",
    "pickle.dump(d,f)\n",
    "f.close()"
   ]
  },
  {
   "cell_type": "code",
   "execution_count": 14,
   "metadata": {},
   "outputs": [
    {
     "data": {
      "text/plain": [
       "{'age': 20, 'name': 'Bob', 'score': 88}"
      ]
     },
     "execution_count": 14,
     "metadata": {},
     "output_type": "execute_result"
    }
   ],
   "source": [
    "f = open('dump.txt','rb')\n",
    "d = pickle.load(f)\n",
    "f.close()\n",
    "d"
   ]
  },
  {
   "cell_type": "markdown",
   "metadata": {},
   "source": [
    "推荐使用json来在不同的编程语言之间传递对象，json表示出来为一个字符串，数据类型对应如下   \n",
    "<table>\n",
    "    <tr>\n",
    "        <td>Json类型</td><td>Python类型</td>\n",
    "    </tr>\n",
    "    <tr>\n",
    "        <td>{}</td><td>dict</td>\n",
    "    </tr>\n",
    "    <tr>\n",
    "        <td>[]</td><td>list</td>\n",
    "    </tr>\n",
    "    <tr>\n",
    "        <td>'string'</td><td>str</td>\n",
    "    </tr>\n",
    "    <tr>\n",
    "        <td>123.456</td><td>int/float</td>\n",
    "    </tr>\n",
    "    <tr>\n",
    "        <td>true/false</td><td>True/Falser</td>\n",
    "    </tr>\n",
    "    <tr>\n",
    "        <td>null</td><td>None</td>\n",
    "    </tr>\n",
    "</table>\n",
    "\n"
   ]
  },
  {
   "cell_type": "code",
   "execution_count": 19,
   "metadata": {},
   "outputs": [
    {
     "data": {
      "text/plain": [
       "'{\"age\": 20, \"name\": \"Bob\", \"score\": 88}'"
      ]
     },
     "execution_count": 19,
     "metadata": {},
     "output_type": "execute_result"
    }
   ],
   "source": [
    "import json\n",
    "d = dict(name='Bob',age=20,score=88)\n",
    "#返回的内容是标准的json字符串，类似的可以使用dump()将字符串写入文件\n",
    "json.dumps(d)"
   ]
  },
  {
   "cell_type": "code",
   "execution_count": 22,
   "metadata": {},
   "outputs": [
    {
     "data": {
      "text/plain": [
       "{'age': 20, 'name': 'Bob', 'score': 88}"
      ]
     },
     "execution_count": 22,
     "metadata": {},
     "output_type": "execute_result"
    }
   ],
   "source": [
    "json_str = '{\"age\": 20,\"score\": 88,\"name\":\"Bob\"}'\n",
    "json.loads(json_str)"
   ]
  },
  {
   "cell_type": "markdown",
   "metadata": {},
   "source": [
    "**通过dumps将对象转化为json对象**"
   ]
  },
  {
   "cell_type": "code",
   "execution_count": 28,
   "metadata": {},
   "outputs": [
    {
     "name": "stdout",
     "output_type": "stream",
     "text": [
      "{\"age\": 20, \"name\": \"Bob\", \"score\": 88}\n"
     ]
    }
   ],
   "source": [
    "import json\n",
    "\n",
    "class Student(object):\n",
    "    def __init__(self, name, age, score):\n",
    "        self.name = name\n",
    "        self.age = age\n",
    "        self.score = score\n",
    "def student2dict(std):\n",
    "    return {\n",
    "        'name':std.name,\n",
    "        'age':std.age,\n",
    "        'score':std.score\n",
    "    }\n",
    "s = Student('Bob', 20, 88)\n",
    "print(json.dumps(s,default=student2dict))"
   ]
  },
  {
   "cell_type": "code",
   "execution_count": 30,
   "metadata": {},
   "outputs": [
    {
     "name": "stdout",
     "output_type": "stream",
     "text": [
      "{\"age\": 20, \"name\": \"Bob\", \"score\": 88}\n"
     ]
    }
   ],
   "source": [
    "#也可以使用偷懒的方法，通常class有一个__dict__的属性，就可以把class变为dict\n",
    "print(json.dumps(s,default=lambda obj :obj.__dict__))"
   ]
  },
  {
   "cell_type": "code",
   "execution_count": 32,
   "metadata": {},
   "outputs": [
    {
     "name": "stdout",
     "output_type": "stream",
     "text": [
      "<__main__.Student object at 0x000002A28EF43240>\n"
     ]
    }
   ],
   "source": [
    "#反之，通过转换函数将dict转化为类\n",
    "def dict2student(d):\n",
    "    return Student(d['name'], d['age'], d['score'])\n",
    "json_str = '{\"age\": 20, \"score\": 88, \"name\": \"Bob\"}'\n",
    "print(json.loads(json_str, object_hook=dict2student))"
   ]
  },
  {
   "cell_type": "code",
   "execution_count": 36,
   "metadata": {},
   "outputs": [
    {
     "name": "stdout",
     "output_type": "stream",
     "text": [
      "{\"age\": 20, \"name\": \"小明\"}\n"
     ]
    }
   ],
   "source": [
    "import json\n",
    "obj = dict(name='小明',age=20)\n",
    "s = json.dumps(obj,ensure_ascii=False)\n",
    "print(s)"
   ]
  }
 ],
 "metadata": {
  "kernelspec": {
   "display_name": "Python [default]",
   "language": "python",
   "name": "python3"
  },
  "language_info": {
   "codemirror_mode": {
    "name": "ipython",
    "version": 3
   },
   "file_extension": ".py",
   "mimetype": "text/x-python",
   "name": "python",
   "nbconvert_exporter": "python",
   "pygments_lexer": "ipython3",
   "version": "3.5.2"
  }
 },
 "nbformat": 4,
 "nbformat_minor": 1
}
