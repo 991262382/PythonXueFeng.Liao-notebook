{
 "cells": [
  {
   "cell_type": "markdown",
   "metadata": {},
   "source": [
    "采用面向对象的程序设计思想，我们首选思考的不是程序的执行流程，而是Student这种数据类型应该被视为一个对象，这个对象拥有name和score这两个属性（Property）。如果要打印一个学生的成绩，**首先必须创建出这个学生对应的对象**，然后，给对象发一个print_score消息，让对象自己把自己的数据打印出来。"
   ]
  },
  {
   "cell_type": "markdown",
   "metadata": {},
   "source": [
    "###  6.1类和实例\n",
    "实例是根据类创造出的一个个具体的对象，每个对象拥有相同的方法，但数据可能各自不同   \n",
    "**在Python中，通过Class来定义类**\n",
    "如：\n",
    "class Student(object):   \n",
    "   pass   \n",
    "   \n",
    "类名通常大写字母开头，(object)表示从object的类继承   \n",
    "通过对象名=类名()创建一个对象  \n",
    "如：  \n",
    "bart = Student()  \n",
    "通过类似C#等语言的方法给属性幅值  \n",
    "bart.name = 'Bart'  \n",
    "  \n",
    "在创建实例时有时需要有一些必填属性，通过定义__init__()函数来强制初始化属性   \n",
    "class Student(object):  \n",
    "   def \\_\\_init\\_\\_(self,name,score):  \n",
    "      self.name = name  \n",
    "      self.score = score  \n",
    "\n"
   ]
  },
  {
   "cell_type": "code",
   "execution_count": 5,
   "metadata": {},
   "outputs": [
    {
     "data": {
      "text/plain": [
       "'bart'"
      ]
     },
     "execution_count": 5,
     "metadata": {},
     "output_type": "execute_result"
    }
   ],
   "source": [
    "class Student(object):\n",
    "    #__init__()函数的一个变量一定是self表示创建的实例，self不需要传参\n",
    "    def __init__(self,name,score):\n",
    "        self.name = name\n",
    "        self.score = score\n",
    "        \n",
    "bart = Student('bart','79')\n",
    "bart.name"
   ]
  },
  {
   "cell_type": "markdown",
   "metadata": {},
   "source": [
    "**封装**  \n",
    "在类的内部定义一些方法，留出接口供外部调用，从而使外部无须知道内部如何执行，提高内聚  \n",
    "内部方法与外部方法唯一的不同就是需要传递的第一个参数是self，其他均一致  \n",
    "\n"
   ]
  },
  {
   "cell_type": "code",
   "execution_count": 19,
   "metadata": {},
   "outputs": [
    {
     "name": "stdout",
     "output_type": "stream",
     "text": [
      "bart 的分数为 79\n"
     ]
    }
   ],
   "source": [
    "class Student(object):\n",
    "    #__init__()函数的一个变量一定是self表示创建的实例，self不需要传参\n",
    "    def __init__(self,name,score):\n",
    "        self.__name = name\n",
    "        self.__score = score\n",
    "    def print_score(self):\n",
    "        print('%s 的分数为 %d'%(self.__name,self.__score))\n",
    "    def set_score(self,score):\n",
    "        self.__score = score\n",
    "    def set_name(self,name):\n",
    "        self.__name = name\n",
    "bart = Student('bart',79)\n",
    "bart.print_score()"
   ]
  },
  {
   "cell_type": "markdown",
   "metadata": {},
   "source": [
    "**即使类中没有该属性，也可以为该对象绑定任意的属性**"
   ]
  },
  {
   "cell_type": "code",
   "execution_count": 14,
   "metadata": {},
   "outputs": [
    {
     "data": {
      "text/plain": [
       "8"
      ]
     },
     "execution_count": 14,
     "metadata": {},
     "output_type": "execute_result"
    }
   ],
   "source": [
    "bart.age =8\n",
    "bart.age"
   ]
  },
  {
   "cell_type": "markdown",
   "metadata": {},
   "source": [
    "###  6.2访问限制\n",
    "如何定义一个私有属性和方法   \n",
    "通过在方法名前面或函数名前面加\\_\\_即可将其声明为私有，无法从外部调用。  \n",
    "在Python中这样很重要，通过定义方法实现对私有属性的初始化，因为这样，可以对输入的值做类型检查，从而提高程序健壮性  "
   ]
  },
  {
   "cell_type": "code",
   "execution_count": 26,
   "metadata": {},
   "outputs": [
    {
     "name": "stdout",
     "output_type": "stream",
     "text": [
      "New Name\n",
      "Bart Simpson 的分数为 59\n"
     ]
    }
   ],
   "source": [
    "bart = Student('Bart Simpson', 59)\n",
    "#此时，实际上是给bart新绑定了一个属性叫__name，原有的__name私有属性被命名为了_Student__name\n",
    "bart.__name = 'New Name' # 设置__name变量！\n",
    "print(bart.__name)\n",
    "bart.print_score()"
   ]
  },
  {
   "cell_type": "markdown",
   "metadata": {},
   "source": [
    "###  6.3继承和多态\n",
    "当我们新定义一个类的时候可以从现有的某个类集成，新的类成为子类，被继承的称为父类或超类或基类  \n",
    "+ **继承最大的好处就是获得了父类的全部功能**  \n",
    "+ **子类父类存在相同的方法时，子类会覆盖父类方法，称之为多态**\n",
    "+ **子类的类型属于父类，但反之不成立**  \n",
    "因此，子类只要保证同样的方法定义正确，即可在原有的代码上正确运行，而无需管父类或其他子类如何定义   \n",
    "而调用方只管调用不管细节，实现了低耦合    \n",
    "  \n",
    "**而对于Python来说，不需要类有集成关系，仅需要该类有被调用的函数即可**  \n",
    "Python的“file-like object“就是一种鸭子类型。对真正的文件对象，它有一个read()方法，返回其内容。但是，许多对象，只要有read()方法，都被视为“file-like object“。许多函数接收的参数就是“file-like object“，你不一定要传入真正的文件对象，完全可以传入任何实现了read()方法的对象。"
   ]
  },
  {
   "cell_type": "markdown",
   "metadata": {},
   "source": [
    "###  6.4获取对象信息\n",
    "通过type()获取对象的Class类型   \n",
    "**优先使用**  isinstance()判断对象是否属于某种类型，或某种class的继承链上的类型\n",
    "\n"
   ]
  },
  {
   "cell_type": "code",
   "execution_count": 28,
   "metadata": {},
   "outputs": [
    {
     "data": {
      "text/plain": [
       "True"
      ]
     },
     "execution_count": 28,
     "metadata": {},
     "output_type": "execute_result"
    }
   ],
   "source": [
    "#可以判断一个变量是否是某些类型中的一种\n",
    "isinstance((1, 2, 3), (list, tuple))"
   ]
  },
  {
   "cell_type": "markdown",
   "metadata": {},
   "source": [
    "获得一个类的所有属性和方法，使用dir()函数，返回一个字符串列表，返回所有的属性和方法  \n",
    "带有\\_\\_xx\\_\\_的方法都是有特殊用途的，可以自己重新改写该函数  \n",
    "  \n",
    "getattr()、setattr()以及hasattr()，我们可以直接操作一个对象的状态\n",
    "\n"
   ]
  },
  {
   "cell_type": "code",
   "execution_count": 39,
   "metadata": {},
   "outputs": [
    {
     "data": {
      "text/plain": [
       "81"
      ]
     },
     "execution_count": 39,
     "metadata": {},
     "output_type": "execute_result"
    }
   ],
   "source": [
    "class MyObject(object):\n",
    "    def __init__(self):\n",
    "        self.x = 9\n",
    "    def power(self):\n",
    "         return self.x * self.x\n",
    "\n",
    "obj = MyObject()\n",
    "hasattr(obj, 'x') # 有属性'x'吗？\n",
    "obj.x\n",
    "hasattr(obj, 'y') # 有属性'y'吗？\n",
    "setattr(obj, 'y', 19) # 设置一个属性'y'\n",
    "hasattr(obj, 'y') # 有属性'y'吗？\n",
    "getattr(obj, 'y') # 获取属性'y'\n",
    "obj.y # 获取属性'y'\n",
    "getattr(obj, 'z', 404) # 获取属性'z'，如果不存在，返回默认值404\n",
    "hasattr(obj, 'power') # 有属性'power'吗？\n",
    "\n",
    "getattr(obj, 'power') # 获取属性'power'\n",
    "\n",
    "fn = getattr(obj, 'power') # 获取属性'power'并赋值到变量fn\n",
    "fn # fn指向obj.power\n",
    "fn() # 调用fn()与调用obj.power()是一样的\n"
   ]
  },
  {
   "cell_type": "markdown",
   "metadata": {},
   "source": [
    "###  6.5实例属性和类属性\n",
    "可以在类中定义属性   \n",
    "也可以为实例绑定类中没有的实例属性   \n",
    "若定义了一个实例属性与类属性同名，则实例属性覆盖了类属性，而删除实例属性后，再读取得到的是类属性"
   ]
  },
  {
   "cell_type": "code",
   "execution_count": 42,
   "metadata": {},
   "outputs": [
    {
     "name": "stdout",
     "output_type": "stream",
     "text": [
      "Student\n",
      "Student\n",
      "Michael\n",
      "Student\n",
      "Student\n"
     ]
    }
   ],
   "source": [
    "class Student(object):\n",
    "    name = 'Student'\n",
    "s = Student() # 创建实例s\n",
    "print(s.name) # 打印name属性，因为实例并没有name属性，所以会继续查找class的name属性\n",
    "print(Student.name) # 打印类的name属性\n",
    "s.name = 'Michael' # 给实例绑定name属性\n",
    "print(s.name) # 由于实例属性优先级比类属性高，因此，它会屏蔽掉类的name属性\n",
    "print(Student.name) # 但是类属性并未消失，用Student.name仍然可以访问\n",
    "del s.name # 如果删除实例的name属性\n",
    "print(s.name) # 再次调用s.name，由于实例的name属性没有找到，类的name属性就显示出来了    \n"
   ]
  },
  {
   "cell_type": "code",
   "execution_count": 47,
   "metadata": {},
   "outputs": [
    {
     "name": "stdout",
     "output_type": "stream",
     "text": [
      "Students: 2\n",
      "测试通过!\n"
     ]
    }
   ],
   "source": [
    "class Student(object):\n",
    "    count = 0\n",
    "\n",
    "    def __init__(self, name):\n",
    "        self.name = name\n",
    "        Student.count = Student.count+1\n",
    "\n",
    "# 测试:\n",
    "if Student.count != 0:\n",
    "    print('测试失败1!')\n",
    "else:\n",
    "    bart = Student('Bart')\n",
    "    if Student.count != 1:\n",
    "        print('测试失败2!')\n",
    "    else:\n",
    "        lisa = Student('Bart')\n",
    "        if Student.count != 2:\n",
    "            print('测试失败3!')\n",
    "        else:\n",
    "            print('Students:', Student.count)\n",
    "            print('测试通过!')"
   ]
  }
 ],
 "metadata": {
  "anaconda-cloud": {},
  "kernelspec": {
   "display_name": "Python [conda root]",
   "language": "python",
   "name": "conda-root-py"
  },
  "language_info": {
   "codemirror_mode": {
    "name": "ipython",
    "version": 3
   },
   "file_extension": ".py",
   "mimetype": "text/x-python",
   "name": "python",
   "nbconvert_exporter": "python",
   "pygments_lexer": "ipython3",
   "version": "3.5.2"
  }
 },
 "nbformat": 4,
 "nbformat_minor": 1
}
